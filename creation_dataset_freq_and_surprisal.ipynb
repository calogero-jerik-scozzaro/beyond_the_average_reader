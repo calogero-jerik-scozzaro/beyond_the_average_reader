{
 "cells": [
  {
   "cell_type": "code",
   "execution_count": null,
   "metadata": {},
   "outputs": [],
   "source": [
    "import pandas as pd\n",
    "import numpy as np\n",
    "from wordfreq import word_frequency\n",
    "import string\n",
    "import math"
   ]
  },
  {
   "cell_type": "code",
   "execution_count": null,
   "metadata": {},
   "outputs": [],
   "source": [
    "import torch\n",
    "\n",
    "device = torch.device(\"cuda\" if torch.cuda.is_available() else \"cpu\")\n",
    "device"
   ]
  },
  {
   "cell_type": "code",
   "execution_count": null,
   "metadata": {},
   "outputs": [],
   "source": [
    "dataset = pd.read_csv(\"data/Provo_Corpus-Predictability_Norms.csv\",encoding='latin-1')\n",
    "\n",
    "# remove rows with NaN values\n",
    "dataset = dataset.dropna()\n",
    "\n",
    "# remove rows with the same id\n",
    "dataset = dataset.drop_duplicates(subset='Word_Unique_ID')\n",
    "\n",
    "# mantain only the column Word_Unique_ID, Text_ID, Text, Word_Number, Sentence_Number, Word_In_Sentence_Number, Word\n",
    "dataset = dataset[['Word_Unique_ID', 'Text_ID', 'Text', 'Word_Number', 'Sentence_Number', 'Word_In_Sentence_Number', 'Word']]"
   ]
  },
  {
   "cell_type": "code",
   "execution_count": null,
   "metadata": {},
   "outputs": [],
   "source": [
    "# create list_of_text from dataset by filtering on text_id and taking the Text column\n",
    "list_of_text = dataset.drop_duplicates(subset='Text_ID')['Text'].tolist()"
   ]
  },
  {
   "cell_type": "code",
   "execution_count": null,
   "metadata": {},
   "outputs": [],
   "source": [
    "# DA RICONTROLLARE, MANCA WORD_NUMBER\n",
    "count_text = 1\n",
    "prefix = \"\"\n",
    "list_of_new_rows = []\n",
    "for text in list_of_text:\n",
    "  # Split into sentences considering multiple punctuation marks\n",
    "  sentences = text.split(\".\")\n",
    "  count_sentence = 1    \n",
    "  word_number = 1\n",
    "  for sentence in sentences:\n",
    "    # Split into words and filter out empty strings\n",
    "    words = sentence.split()\n",
    "    count_word = 1\n",
    "    for word in words:\n",
    "      word = word.strip('\"') \n",
    "      if word:  # Ensure the word is not empty\n",
    "        # add the new row to the list\n",
    "        filtered_rows = dataset[(dataset['Text_ID'] == count_text) & \n",
    "                              (dataset['Sentence_Number'] == count_sentence) & \n",
    "                              (dataset['Word_In_Sentence_Number'] == count_word)][\"Word_Unique_ID\"]\n",
    "        if not filtered_rows.empty:\n",
    "          word_unique_id = filtered_rows.values[0]\n",
    "          list_of_new_rows.append([word_unique_id, count_text, word_number, count_sentence, count_word, prefix, word])\n",
    "\n",
    "        prefix = prefix + \" \" + word if count_word != 1 or count_sentence != 1 else word\n",
    "        count_word += 1\n",
    "        word_number += 1\n",
    "        \n",
    "    prefix = prefix + \".\"\n",
    "    count_sentence += 1\n",
    "    \n",
    "  count_text += 1\n",
    "  prefix = \"\"\n",
    "\n",
    "# Create a new DataFrame with the new rows\n",
    "df = pd.DataFrame(list_of_new_rows, columns=['Word_Unique_ID','Text_ID', 'Word_Number','Sentence_Number', 'Word_In_Sentence_Number', 'Prefix', 'Word'])"
   ]
  },
  {
   "cell_type": "markdown",
   "metadata": {},
   "source": [
    "# frequency"
   ]
  },
  {
   "cell_type": "code",
   "execution_count": null,
   "metadata": {},
   "outputs": [],
   "source": [
    "df['Frequency'] = df['Word'].apply(lambda word: word_frequency(word, 'en'))\n",
    "\n",
    "df"
   ]
  },
  {
   "cell_type": "markdown",
   "metadata": {},
   "source": [
    "# surprisal"
   ]
  },
  {
   "cell_type": "code",
   "execution_count": null,
   "metadata": {},
   "outputs": [],
   "source": [
    "from transformers import AutoTokenizer, AutoModelForCausalLM\n",
    "\n",
    "tokenizer = AutoTokenizer.from_pretrained('gpt2',add_prefix_space=True)\n",
    "model = AutoModelForCausalLM.from_pretrained('gpt2')"
   ]
  },
  {
   "cell_type": "code",
   "execution_count": null,
   "metadata": {},
   "outputs": [],
   "source": [
    "# add surprisal column using the gpt-2 model\n",
    "list_surprisal = []\n",
    "\n",
    "model = model.to(device)\n",
    "\n",
    "for index,row in df.iterrows():\n",
    "  if (row[\"Sentence_Number\"] == 1 and row[\"Word_In_Sentence_Number\"] == 1):\n",
    "    list_surprisal.append(0)\n",
    "  else:\n",
    "    word = row[\"Word\"].strip(string.punctuation).lower()\n",
    "    context = row[\"Prefix\"]\n",
    "\n",
    "    encoded_text = tokenizer(context, return_tensors=\"pt\").to(device)\n",
    "\n",
    "    with torch.inference_mode():\n",
    "      outputs = model(**encoded_text)\n",
    "      \n",
    "    next_token_logits = outputs.logits[0, -1, :]\n",
    "    next_token_probs = torch.softmax(next_token_logits, -1)\n",
    "    next_word_gpt = word.strip(string.punctuation).replace(\",\",\"\")\n",
    "    word_prob_gpt = next_token_probs[tokenizer(next_word_gpt).input_ids[0]]\n",
    "    surprisal_gpt = -math.log(word_prob_gpt)\n",
    "    list_surprisal.append(round(surprisal_gpt,5))\n",
    "\n",
    "df[\"Surprisal\"] = list_surprisal"
   ]
  },
  {
   "cell_type": "code",
   "execution_count": null,
   "metadata": {},
   "outputs": [],
   "source": [
    "df"
   ]
  },
  {
   "cell_type": "code",
   "execution_count": null,
   "metadata": {},
   "outputs": [],
   "source": [
    "df.to_csv(\"data/dataset_text_properties.csv\", index=False)"
   ]
  },
  {
   "cell_type": "code",
   "execution_count": null,
   "metadata": {},
   "outputs": [],
   "source": []
  }
 ],
 "metadata": {
  "kernelspec": {
   "display_name": "beyond_the_average_reader_env",
   "language": "python",
   "name": "python3"
  },
  "language_info": {
   "codemirror_mode": {
    "name": "ipython",
    "version": 3
   },
   "file_extension": ".py",
   "mimetype": "text/x-python",
   "name": "python",
   "nbconvert_exporter": "python",
   "pygments_lexer": "ipython3",
   "version": "3.10.16"
  }
 },
 "nbformat": 4,
 "nbformat_minor": 2
}
